{
 "cells": [
  {
   "cell_type": "markdown",
   "id": "bff5bceb",
   "metadata": {},
   "source": [
    "Can we replicate [the Center for Policing Equity's 2016-2020 report](https://justicenavigator.org/san-diego-city-ca-2021/summary/) using data from the City of San Diego's [RIPA police stop dataset](https://data.sandiego.gov/datasets/police-ripa-stops/)?"
   ]
  },
  {
   "cell_type": "code",
   "execution_count": 1,
   "id": "e4e27e60",
   "metadata": {},
   "outputs": [],
   "source": [
    "import pandas as pd\n",
    "import seaborn as sns\n",
    "\n",
    "def get_data(location):\n",
    "    return pd.read_csv(location, low_memory=False)"
   ]
  }
 ],
 "metadata": {
  "kernelspec": {
   "display_name": "Python 3 (ipykernel)",
   "language": "python",
   "name": "python3"
  },
  "language_info": {
   "codemirror_mode": {
    "name": "ipython",
    "version": 3
   },
   "file_extension": ".py",
   "mimetype": "text/x-python",
   "name": "python",
   "nbconvert_exporter": "python",
   "pygments_lexer": "ipython3",
   "version": "3.10.6"
  }
 },
 "nbformat": 4,
 "nbformat_minor": 5
}
